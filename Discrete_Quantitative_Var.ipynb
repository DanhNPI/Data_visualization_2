{
 "cells": [
  {
   "cell_type": "code",
   "execution_count": 1,
   "metadata": {},
   "outputs": [],
   "source": [
    "import pandas as pd\n",
    "import numpy as np\n"
   ]
  },
  {
   "cell_type": "code",
   "execution_count": 2,
   "metadata": {},
   "outputs": [],
   "source": [
    "ages = [20, 22, 25, 27, 21, 23, 37, 31, 61, 45, 41, 32]"
   ]
  },
  {
   "cell_type": "code",
   "execution_count": 4,
   "metadata": {},
   "outputs": [
    {
     "data": {
      "text/plain": [
       "[(18, 25], (18, 25], (18, 25], (25, 35], (18, 25], ..., (25, 35], (60, 100], (35, 60], (35, 60], (25, 35]]\n",
       "Length: 12\n",
       "Categories (4, interval[int64, right]): [(18, 25] < (25, 35] < (35, 60] < (60, 100]]"
      ]
     },
     "metadata": {},
     "output_type": "display_data"
    }
   ],
   "source": [
    "# Định nghĩa khoảng giá trị các nhóm\n",
    "bins = [18, 25, 35, 60, 100]\n",
    "\n",
    "# Thực hiện rời rạc hóa\n",
    "cats = pd.cut(ages, bins)\n",
    "display(cats)"
   ]
  },
  {
   "cell_type": "code",
   "execution_count": 5,
   "metadata": {},
   "outputs": [
    {
     "data": {
      "text/plain": [
       "array([0, 0, 0, 1, 0, 0, 2, 1, 3, 2, 2, 1], dtype=int8)"
      ]
     },
     "execution_count": 5,
     "metadata": {},
     "output_type": "execute_result"
    }
   ],
   "source": [
    "# lấy ra các index của nhóm tương ứng vs các phần tử\n",
    "cats.codes"
   ]
  },
  {
   "cell_type": "code",
   "execution_count": 6,
   "metadata": {},
   "outputs": [
    {
     "data": {
      "text/plain": [
       "IntervalIndex([(18, 25], (25, 35], (35, 60], (60, 100]], dtype='interval[int64, right]')"
      ]
     },
     "execution_count": 6,
     "metadata": {},
     "output_type": "execute_result"
    }
   ],
   "source": [
    "# Lấy ra các nhóm\n",
    "cats.categories"
   ]
  },
  {
   "cell_type": "code",
   "execution_count": 7,
   "metadata": {},
   "outputs": [
    {
     "data": {
      "text/plain": [
       "(18, 25]     5\n",
       "(25, 35]     3\n",
       "(35, 60]     3\n",
       "(60, 100]    1\n",
       "dtype: int64"
      ]
     },
     "execution_count": 7,
     "metadata": {},
     "output_type": "execute_result"
    }
   ],
   "source": [
    "# Thống kê số lượng phần tử ở mỗi nhóm\n",
    "pd.value_counts(cats)"
   ]
  },
  {
   "cell_type": "code",
   "execution_count": 10,
   "metadata": {},
   "outputs": [
    {
     "data": {
      "text/plain": [
       "['Youth', 'Youth', 'Youth', 'YoungAdult', 'Youth', ..., 'YoungAdult', 'Senior', 'MiddleAged', 'MiddleAged', 'YoungAdult']\n",
       "Length: 12\n",
       "Categories (4, object): ['Youth' < 'YoungAdult' < 'MiddleAged' < 'Senior']"
      ]
     },
     "execution_count": 10,
     "metadata": {},
     "output_type": "execute_result"
    }
   ],
   "source": [
    "# Định nghĩa nhãn\n",
    "group_names = ['Youth', 'YoungAdult', 'MiddleAged', 'Senior']\n",
    "\n",
    "pd.cut(ages, bins, labels=group_names)"
   ]
  },
  {
   "cell_type": "code",
   "execution_count": 13,
   "metadata": {},
   "outputs": [
    {
     "data": {
      "text/plain": [
       "array([0.31899272, 0.33779395, 0.1512652 , 0.23459857, 0.7074413 ,\n",
       "       0.60354973, 0.48592557, 0.75943492, 0.2821585 , 0.42457668,\n",
       "       0.99626702, 0.77722926, 0.04506613, 0.29344885, 0.08991957,\n",
       "       0.48451111, 0.21486526, 0.6262646 , 0.40123055, 0.19986091])"
      ]
     },
     "metadata": {},
     "output_type": "display_data"
    },
    {
     "data": {
      "text/plain": [
       "[(0.28, 0.52], (0.28, 0.52], (0.044, 0.28], (0.044, 0.28], (0.52, 0.76], ..., (0.28, 0.52], (0.044, 0.28], (0.52, 0.76], (0.28, 0.52], (0.044, 0.28]]\n",
       "Length: 20\n",
       "Categories (4, interval[float64, right]): [(0.044, 0.28] < (0.28, 0.52] < (0.52, 0.76] < (0.76, 1.0]]"
      ]
     },
     "metadata": {},
     "output_type": "display_data"
    },
    {
     "data": {
      "text/plain": [
       "(0.044, 0.28]    7\n",
       "(0.28, 0.52]     7\n",
       "(0.52, 0.76]     3\n",
       "(0.76, 1.0]      3\n",
       "dtype: int64"
      ]
     },
     "execution_count": 13,
     "metadata": {},
     "output_type": "execute_result"
    }
   ],
   "source": [
    "# Sinh dữ liệu ngẫu nhiên gồm 20 phần tử\n",
    "data = np.random.rand(20)\n",
    "display(data)\n",
    "\n",
    "# Rời rạc hóa dữ liệu\n",
    "cut_data = pd.cut(data, 4, precision=2)\n",
    "display(cut_data)\n",
    "\n",
    "# Thống kê phần tử mỗi nhóm\n",
    "pd.value_counts(cut_data)"
   ]
  },
  {
   "cell_type": "code",
   "execution_count": 16,
   "metadata": {},
   "outputs": [],
   "source": [
    "# Sinh ngẫu nhiên 1000 điểm dữ liệu\n",
    "data1 = np.random.randn(1000)"
   ]
  },
  {
   "cell_type": "code",
   "execution_count": 17,
   "metadata": {},
   "outputs": [
    {
     "data": {
      "text/plain": [
       "[(-0.663, 0.0191], (0.0191, 0.71], (0.0191, 0.71], (-0.663, 0.0191], (-0.663, 0.0191], ..., (-0.663, 0.0191], (-2.815, -0.663], (0.71, 3.534], (-2.815, -0.663], (-2.815, -0.663]]\n",
       "Length: 1000\n",
       "Categories (4, interval[float64, right]): [(-2.815, -0.663] < (-0.663, 0.0191] < (0.0191, 0.71] < (0.71, 3.534]]"
      ]
     },
     "execution_count": 17,
     "metadata": {},
     "output_type": "execute_result"
    }
   ],
   "source": [
    "# Thực hiện qcut\n",
    "\n",
    "cats = pd.qcut(data1, 4)\n",
    "cats"
   ]
  },
  {
   "cell_type": "code",
   "execution_count": 18,
   "metadata": {},
   "outputs": [
    {
     "data": {
      "text/plain": [
       "(-2.815, -0.663]    250\n",
       "(-0.663, 0.0191]    250\n",
       "(0.0191, 0.71]      250\n",
       "(0.71, 3.534]       250\n",
       "dtype: int64"
      ]
     },
     "execution_count": 18,
     "metadata": {},
     "output_type": "execute_result"
    }
   ],
   "source": [
    "# Thống kê\n",
    "pd.value_counts(cats)"
   ]
  }
 ],
 "metadata": {
  "kernelspec": {
   "display_name": "Python 3.10.2 64-bit",
   "language": "python",
   "name": "python3"
  },
  "language_info": {
   "codemirror_mode": {
    "name": "ipython",
    "version": 3
   },
   "file_extension": ".py",
   "mimetype": "text/x-python",
   "name": "python",
   "nbconvert_exporter": "python",
   "pygments_lexer": "ipython3",
   "version": "3.10.2"
  },
  "orig_nbformat": 4,
  "vscode": {
   "interpreter": {
    "hash": "41cedb187d78d81e20b9634a9e1e717e0ac926d1a4a4ecd20da710c9472f453b"
   }
  }
 },
 "nbformat": 4,
 "nbformat_minor": 2
}
